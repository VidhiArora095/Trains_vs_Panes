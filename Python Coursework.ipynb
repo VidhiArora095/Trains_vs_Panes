{
 "cells": [
  {
   "cell_type": "markdown",
   "metadata": {},
   "source": [
    "# Trains vs. Planes - Who is taking us to a better environmental destination?\n",
    "\n",
    "by Vidhi Arora\n",
    "\n",
    "### Overview:\n",
    "\n",
    "This analysis aims to explore the environmental impact of international travel within Europe and compares two modes of travel: Trains and Planes.\n",
    "\n",
    "The environmental cost of travel by one mode or the other has been calculated by correlating the carbon emissions against the number of train stations and airports in a region.\n",
    "\n",
    "### Background\n",
    "\n",
    "The European Commission recently announced that it aims to reduce carbon emissions to net zero by 2050. It unveiled what it is billing as the biggest \"green\" stimulus package in history (European Commission, 2020). The purpose of this analysis is therefore to answer the question of whether european countries should be investing more in its train infrastructure rather than its aviation infrastructure.\n",
    "\n",
    "### Data Sources\n",
    "\n",
    "The [airport data](https://ourairports.com/help/data-dictionary.htmltaken) taken from the \"ourairports\" website:  - Accessed: 23rd May 2020- is an open source website containg data about airports around the world. The data is upto date. Each line in the datset represents an airport.\n",
    "\n",
    "The [Train data](https://public.opendatasoft.com/explore/dataset/european-train-stations/export/?location=4,53.86893,13.9166&basemap=jawg.streets&dataChart=eyJxdWVyaWVzIjpbeyJjaGFydHMiOlt7InR5cGUiOiJjb2x1bW4iLCJmdW5jIjoiQ09VTlQiLCJzY2llbnRpZmljRGlzcGxheSI6dHJ1ZSwiY29sb3IiOiIjRkY1MTVBIn1dLCJ4QXhpcyI6ImNvdW50cnkiLCJtYXhwb2ludHMiOm51bGwsInNvcnQiOiJzZXJpZTEtMSIsImNvbmZpZyI6eyJkYXRhc2V0IjoiZXVyb3BlYW4tdHJhaW4tc3RhdGlvbnMiLCJvcHRpb25zIjp7fX19XSwidGltZXNjYWxlIjoiIiwiZGlzcGxheUxlZ2VuZCI6dHJ1ZSwiYWxpZ25Nb250aCI6dHJ1ZX0%3D) taken from opendatasoft - \n",
    "Last updated: April 30, 2020 11:04 PM - contains the information Trainline EU uses to identify stations across the diverse systems of the train operators. This dataset is complied using four open data sources: OpenstreetMap, SNCFOpenData, Geonames and Digitraffic.fi. \n",
    "\n",
    "[Carbon Emissions data](https://ourworldindata.org/co2-and-other-greenhouse-gas-emissions#data-sources) taken from ourworldindata - 2019 data was used. \n",
    "\n",
    "Table for [country codes](https://datahub.io/JohnSnowLabs/country-and-continent-codes-list#resource-country-and-continent-codes-list-csv) taken from Datahub to use as the id for merging the three datasets. "
   ]
  },
  {
   "cell_type": "markdown",
   "metadata": {},
   "source": [
    "### Data Prepration\n",
    "\n",
    "The data prepration will involve a few steps: \n",
    "\n",
    "* Downloading the data from the data sources.\n",
    "* Reading the CSV into a pandas data frame.\n",
    "* Adding a counter colunm next to each data frame. \n",
    "* Grouping all the datsets by the common key. \n",
    "* Creating three seperate joins to merge all data frames together. \n",
    "* Filering the Data by European countries. \n",
    "* Filtering the colunms needed for the analysis. \n",
    "* Normalising the data.\n",
    "* Cleaning the colunm headers. \n",
    "* Identifying and exculding outliers."
   ]
  },
  {
   "cell_type": "code",
   "execution_count": 3,
   "metadata": {},
   "outputs": [
    {
     "name": "stdout",
     "output_type": "stream",
     "text": [
      " 1.21 Programming exercise.ipynb\r\n",
      "\u001b[34mApplications\u001b[m\u001b[m/\r\n",
      "\u001b[34mDesktop\u001b[m\u001b[m/\r\n",
      "\u001b[34mDocuments\u001b[m\u001b[m/\r\n",
      "\u001b[34mDownloads\u001b[m\u001b[m/\r\n",
      "\u001b[34mLibrary\u001b[m\u001b[m/\r\n",
      "\u001b[34mMovies\u001b[m\u001b[m/\r\n",
      "\u001b[34mMusic\u001b[m\u001b[m/\r\n",
      "\u001b[34mPictures\u001b[m\u001b[m/\r\n",
      "\u001b[34mPublic\u001b[m\u001b[m/\r\n",
      "Python Coursework.ipynb\r\n",
      "Topic 1 - Peer Feedback 2 .ipynb\r\n",
      "Topic 3 Programming exerscise 1-3.ipynb\r\n",
      "Topic 3 programming exercise 3.14.ipynb\r\n",
      "Untitled.ipynb\r\n",
      "Untitled1.ipynb\r\n",
      "Untitled2.ipynb\r\n",
      "Untitled3.ipynb\r\n",
      "Untitled4.ipynb\r\n",
      "V1. Coursework.ipynb\r\n",
      "\u001b[34mWork\u001b[m\u001b[m/\r\n",
      "Zoopla webscrape.ipynb\r\n",
      "cryptos.csv\r\n",
      "\u001b[34mopt\u001b[m\u001b[m/\r\n",
      "zoopla.csv\r\n"
     ]
    }
   ],
   "source": [
    "ls"
   ]
  },
  {
   "cell_type": "code",
   "execution_count": 2,
   "metadata": {},
   "outputs": [
    {
     "ename": "SyntaxError",
     "evalue": "invalid syntax (<ipython-input-2-47582e65fb45>, line 2)",
     "output_type": "error",
     "traceback": [
      "\u001b[0;36m  File \u001b[0;32m\"<ipython-input-2-47582e65fb45>\"\u001b[0;36m, line \u001b[0;32m2\u001b[0m\n\u001b[0;31m    cd Work/Python_coursework/\u001b[0m\n\u001b[0m          ^\u001b[0m\n\u001b[0;31mSyntaxError\u001b[0m\u001b[0;31m:\u001b[0m invalid syntax\n"
     ]
    }
   ],
   "source": [
    "#Change folder path to where user uncopresses and stores data folder.\n",
    "cd Work/Python_coursework/"
   ]
  },
  {
   "cell_type": "code",
   "execution_count": null,
   "metadata": {},
   "outputs": [],
   "source": [
    "#import relevant packages and read the data\n",
    "import numpy as np\n",
    "import pandas as pd\n",
    "\n",
    "#load files\n",
    "Airport_data = pd.read_csv('airports.csv')\n",
    "Carbon_data = pd.read_csv('carbon.csv')\n",
    "Railway_data = pd.read_csv('train_stations.csv')\n",
    "Country_code = pd.read_csv('country_code.csv')\n"
   ]
  },
  {
   "cell_type": "code",
   "execution_count": null,
   "metadata": {},
   "outputs": [],
   "source": [
    "#Add a counter\n",
    "\n",
    "Airport_data[\"Type\"]= \"Airport\"\n",
    "Railway_data[\"Type\"]= \"Train Station\"\n",
    "Airport_data[\"counter_Airports\"]= 1\n",
    "Railway_data[\"counter_Train_Stations\"]= 1"
   ]
  },
  {
   "cell_type": "code",
   "execution_count": null,
   "metadata": {},
   "outputs": [],
   "source": [
    "#Group all three datsets by the country names\n",
    "\n",
    "Airport_data_by_country = Airport_data.groupby([\"iso_country\",\"Type\",\"continent\"])[\"counter_Airports\"].sum()\n",
    "Railway_data_by_country = Railway_data.groupby([\"iso_country\",\"Type\"])[\"counter_Train_Stations\"].sum()\n",
    "Carbon_data_by_country = Carbon_data.groupby([\"iso_country\",\"Entity\", \"Year\"])[\"CO₂ emissions per capita (tonnes per capita)\"].sum().astype(int)"
   ]
  },
  {
   "cell_type": "code",
   "execution_count": null,
   "metadata": {},
   "outputs": [],
   "source": [
    "#Examine the railway data\n",
    "print(Railway_data.head())"
   ]
  },
  {
   "cell_type": "code",
   "execution_count": null,
   "metadata": {},
   "outputs": [],
   "source": [
    "#Examine the airport data\n",
    "print(Airport_data.head())"
   ]
  },
  {
   "cell_type": "code",
   "execution_count": null,
   "metadata": {},
   "outputs": [],
   "source": [
    "#Examine the Carbon Data\n",
    "print(Carbon_data.head())"
   ]
  },
  {
   "cell_type": "code",
   "execution_count": null,
   "metadata": {},
   "outputs": [],
   "source": [
    "#Examine Airport data grouped by country:\n",
    "print(Airport_data_by_country.head())"
   ]
  },
  {
   "cell_type": "code",
   "execution_count": null,
   "metadata": {},
   "outputs": [],
   "source": [
    "#Examine Carbon data grouped by country:\n",
    "print(Carbon_data_by_country.head())"
   ]
  },
  {
   "cell_type": "code",
   "execution_count": null,
   "metadata": {},
   "outputs": [],
   "source": [
    "#1st Join - Joined the Airport and carbon data on the key -\"iso_country\".\n",
    "#eliminated any \"null\" fields and returned the final dataframe in which none of the colunms are null. \n",
    "\n",
    "merged_df = pd.merge(Airport_data_by_country,\n",
    "                     Carbon_data_by_country,\n",
    "                     on = ['iso_country'],\n",
    "                    how = 'inner')"
   ]
  },
  {
   "cell_type": "code",
   "execution_count": null,
   "metadata": {},
   "outputs": [],
   "source": [
    "#Examine the 1st Join\n",
    "print(merged_df.head())"
   ]
  },
  {
   "cell_type": "code",
   "execution_count": null,
   "metadata": {},
   "outputs": [],
   "source": [
    "#2nd Join - Joined the Railway data to the joined Airport and Carbon Data on the key -\"iso_country\".\n",
    "#eliminated any \"null\" fields and returned the final dataframe in which none of the colunms are null. \n",
    "merged_df = pd.merge(merged_df,\n",
    "                     Railway_data_by_country,\n",
    "                    on = ['iso_country'],\n",
    "                    how = 'inner')\n",
    "\n",
    "print(merged_df.head())"
   ]
  },
  {
   "cell_type": "code",
   "execution_count": null,
   "metadata": {},
   "outputs": [],
   "source": [
    "#3rd Join - Joined the country code data to the joined Railway, Airport and Carbon Data on the key -\"iso_country\".\n",
    "#eliminated any \"null\" fields and returned the final dataframe in which none of the colunms are null.\n",
    "\n",
    "merged_df = pd.merge(merged_df,\n",
    "                     Country_code,\n",
    "                    on = ['iso_country'],\n",
    "                    how = 'inner')\n",
    "\n",
    "print(merged_df.head())\n"
   ]
  },
  {
   "cell_type": "code",
   "execution_count": null,
   "metadata": {},
   "outputs": [],
   "source": [
    "#Filter data to European countries\n",
    "\n",
    "EU_dataset = merged_df[merged_df[\"Continent_Name\"]==\"Europe\"]\n",
    "\n",
    "print(EU_dataset.head())"
   ]
  },
  {
   "cell_type": "code",
   "execution_count": null,
   "metadata": {},
   "outputs": [],
   "source": [
    "#Examine Data\n",
    "print(EU_dataset.shape)\n",
    "print(EU_dataset.info())\n",
    "print(EU_dataset)"
   ]
  },
  {
   "cell_type": "code",
   "execution_count": null,
   "metadata": {},
   "outputs": [],
   "source": [
    "#Select the colunms needed for analysis.\n",
    "EU_dataset_analysis = EU_dataset[[\"Country_Name\",\"counter_Airports\",\"counter_Train_Stations\",\"CO₂ emissions per capita (tonnes per capita)\"]]\n"
   ]
  },
  {
   "cell_type": "code",
   "execution_count": null,
   "metadata": {},
   "outputs": [],
   "source": [
    "print(EU_dataset_analysis.describe())"
   ]
  },
  {
   "cell_type": "code",
   "execution_count": null,
   "metadata": {},
   "outputs": [],
   "source": [
    "#Group the dataset by making the country name the key.\n",
    "Grouped_EU_dataset = EU_dataset_analysis.groupby(\"Country_Name\")[[\"counter_Airports\",\"counter_Train_Stations\",\"CO₂ emissions per capita (tonnes per capita)\"]].sum()\n",
    "print(Grouped_EU_dataset.shape)\n",
    "print(Grouped_EU_dataset.describe())\n",
    "print(Grouped_EU_dataset)"
   ]
  },
  {
   "cell_type": "markdown",
   "metadata": {},
   "source": [
    "### Premilanary insights:\n",
    "\n",
    "The data showed 44 rows and 9 colunms. \n",
    "\n",
    "This was then grouped by countries and relevant rows were filtered out. Of the 9 colunms we are only interested in colunms 1,2,3,6 for our analysis. This lead to 42 rows and 3 colunms.\n",
    "\n",
    "The avg. number of airports in a European country = 203\n",
    "\n",
    "The avg. number of train stations in a European country = 854\n",
    "\n",
    "The avg. CO₂ emissions per capita (tonnes per capita) = 6.5\n",
    "\n",
    "The minimum train stations in a European country = 2\n",
    "\n",
    "The minimum airports in a European country = 1\n",
    "\n",
    "The minimum CO₂ emissions per capita (tonnes per capita) = 1\n",
    "\n",
    "The next stage is normalization of the data. This is the process of converting each indidual data point on mesuared variables on similar scales by subtracting the mean and divinding by the standard deviation. we can see in the prelimanary analysis of the dataset that the train data has a relatively large scale and can dominate the whole data of not normalised. "
   ]
  },
  {
   "cell_type": "code",
   "execution_count": null,
   "metadata": {},
   "outputs": [],
   "source": [
    "#Normalise the data to remove effects of scaling. \n",
    "\n",
    "def normalization_new(column):\n",
    "    column = ((column - column.min())/(column.max() - column.min()))\n",
    "    return column\n",
    "    \n",
    "Grouped_EU_dataset[\"counter_Airports\"] = normalization_new(Grouped_EU_dataset[\"counter_Airports\"])\n",
    "Grouped_EU_dataset[\"counter_Train_Stations\"] = normalization_new(Grouped_EU_dataset[\"counter_Train_Stations\"])\n",
    "Grouped_EU_dataset[\"CO₂ emissions per capita (tonnes per capita)\"] = normalization_new(Grouped_EU_dataset[\"CO₂ emissions per capita (tonnes per capita)\"])"
   ]
  },
  {
   "cell_type": "code",
   "execution_count": null,
   "metadata": {},
   "outputs": [],
   "source": [
    "#Clean colunm headers.\n",
    "Grouped_EU_dataset.index = Grouped_EU_dataset.index.str.split(',').str[0]\n",
    "\n",
    "print (Grouped_EU_dataset.index)\n",
    "\n",
    "print(Grouped_EU_dataset.describe())"
   ]
  },
  {
   "cell_type": "code",
   "execution_count": null,
   "metadata": {},
   "outputs": [],
   "source": [
    "#Examining the dataset to identify countries with highest and lowest CO₂ Emissions.\n",
    "Grouped_EU_dataset.sort_values(\"CO₂ emissions per capita (tonnes per capita)\")"
   ]
  },
  {
   "cell_type": "markdown",
   "metadata": {},
   "source": [
    "Moldovia has the lowest carbon emissions. Whilst, the Russian Frederation has the highest carbon emissions. \n",
    "Uk has the highest number of airports and Liechenstein has the lowest number of airports.\n",
    "Germany has the highest train stations and Liechenstein has the lowest number of train stations."
   ]
  },
  {
   "cell_type": "markdown",
   "metadata": {},
   "source": [
    "### Data distribution:\n",
    "\n",
    "Examining the interquartile range (IQR), which is a measure of dispersion, of the three datasets, we see that the Airport and CO₂ emissions datasets are more widely spread, however the Train station dataset is more condensed. \n",
    "\n",
    "Another interesting observation is that the train data has more countries in its upper quartile (q3) than the other two datasets. \n",
    "\n",
    "The outliers have aslo been identifed and excluded thus reducing the dataset to 32 countries.\n"
   ]
  },
  {
   "cell_type": "code",
   "execution_count": null,
   "metadata": {},
   "outputs": [],
   "source": [
    "#Understanding the distribution of the dataset and identifying the outliers.\n",
    "\n",
    "import plotly.graph_objects as go\n",
    "\n",
    "\n",
    "fig = go.Figure()\n",
    "\n",
    "fig.add_trace(go.Box (x = Grouped_EU_dataset[\"CO₂ emissions per capita (tonnes per capita)\"], name = \"CO₂ emissions per capita\", text = Grouped_EU_dataset.index))\n",
    "fig.add_trace(go.Box (x = Grouped_EU_dataset[\"counter_Train_Stations\"], name = 'Number of Train Stations', text = Grouped_EU_dataset.index))\n",
    "fig.add_trace(go.Box (x = Grouped_EU_dataset[\"counter_Airports\"], name = \"Number of Airports\", text = Grouped_EU_dataset.index))\n",
    "\n",
    "fig.show()\n",
    "\n",
    "Q1 = Grouped_EU_dataset.quantile(0.25)\n",
    "Q3 = Grouped_EU_dataset.quantile(0.75)\n",
    "IQR = Q3-Q1\n",
    "print(IQR)\n",
    "\n"
   ]
  },
  {
   "cell_type": "code",
   "execution_count": null,
   "metadata": {},
   "outputs": [],
   "source": [
    "#Identifed outliers and excluded them from dataset.\n",
    "\n",
    "print((Grouped_EU_dataset<(Q1 - 1.5 * IQR))|(Grouped_EU_dataset > (Q3 + 1.5 * IQR)))\n",
    "\n",
    "\n",
    "Grouped_EU_dataset = Grouped_EU_dataset[~((Grouped_EU_dataset<(Q1 - 1.5 * IQR))|(Grouped_EU_dataset > (Q3 + 1.5 * IQR))).any(axis=1)]\n",
    "\n",
    "Grouped_EU_dataset.shape"
   ]
  },
  {
   "cell_type": "code",
   "execution_count": null,
   "metadata": {},
   "outputs": [],
   "source": [
    "print(Grouped_EU_dataset.describe())\n",
    "mean_Carbon=Grouped_EU_dataset[\"CO₂ emissions per capita (tonnes per capita)\"].mean()\n",
    "print(mean_Carbon)"
   ]
  },
  {
   "cell_type": "markdown",
   "metadata": {},
   "source": [
    "### Analysis:\n",
    "\n",
    "* Stacked bar graph to visulaiste the dataset and draw top level insights.\n",
    "* K-Means Clustering visulaistaions to idently clusters between both correlations.\n",
    "* Bubble chart to depict a 3 way correlation - highlight high carbon emitting countires.\n",
    "* Calculate correlation coeffecients."
   ]
  },
  {
   "cell_type": "code",
   "execution_count": null,
   "metadata": {},
   "outputs": [],
   "source": [
    "#This graph depicts the carbon emissions, train stations and airports on a stacekd bar graph ordered by total value in asending order. \n",
    "\n",
    "import plotly.graph_objects as go\n",
    "\n",
    "Grouped_EU_dataset[\"CO₂ emissions per capita (tonnes per capita)\"].sort_values()\n",
    "\n",
    "x =  Grouped_EU_dataset.index\n",
    "\n",
    "fig = go.Figure(data=[\n",
    "    go.Bar(name= 'Airports',x = x,y = Grouped_EU_dataset[\"counter_Airports\"],text = Grouped_EU_dataset[\"counter_Airports\"]),\n",
    "    go.Bar(name= 'Train Stations',x = x, y = Grouped_EU_dataset[\"counter_Train_Stations\"],text = Grouped_EU_dataset[\"counter_Train_Stations\"]),\n",
    "    go.Bar(name= 'Carbon Emissions',x = x, y = Grouped_EU_dataset[\"CO₂ emissions per capita (tonnes per capita)\"],text = Grouped_EU_dataset[\"CO₂ emissions per capita (tonnes per capita)\"])\n",
    "\n",
    "])\n",
    "                \n",
    "fig.update_traces(textfont_size= 8,textposition='outside')\n",
    "fig.update_layout(barmode = 'stack', xaxis ={'categoryorder':'total ascending'})\n",
    "\n",
    "         \n",
    "fig.show()\n"
   ]
  },
  {
   "cell_type": "markdown",
   "metadata": {},
   "source": [
    "Eyeballing the graph above starts to show that the high carbon emitting countries have a higher number of Airports in comparison to the number of train stations. "
   ]
  },
  {
   "cell_type": "code",
   "execution_count": null,
   "metadata": {},
   "outputs": [],
   "source": [
    "#The K-Clustering in Pandas methodology is applied to start identifying clusters.\n",
    "#This graph is between Number of Airports and Carbon Emissions: \n",
    "\n",
    "import matplotlib.pyplot as plt \n",
    "\n",
    "from sklearn.cluster import KMeans\n",
    "\n",
    "km_res = KMeans(n_clusters =2).fit(Grouped_EU_dataset[[\"counter_Airports\",\"CO₂ emissions per capita (tonnes per capita)\"]])\n",
    "\n",
    "clusters = km_res.cluster_centers_\n",
    "\n",
    "\n",
    "plt.scatter(Grouped_EU_dataset[\"counter_Airports\"],Grouped_EU_dataset[\"CO₂ emissions per capita (tonnes per capita)\"], marker = 'o', color ='red', label = 'Number of Airports')\n",
    "plt.scatter(clusters[:,0], clusters[:,1], s= 2000, alpha = 0.50)\n",
    "plt.xlabel('Number of Airports')\n",
    "plt.ylabel('CO₂ emissions per capita (tonnes per capita)')\n",
    "plt.title('Co-relation of number of Airports\\n with CO₂ emissions ')\n",
    "plt.legend(loc = 'lower right')\n",
    "plt.style.use('fivethirtyeight')\n",
    "print(clusters)\n"
   ]
  },
  {
   "cell_type": "code",
   "execution_count": null,
   "metadata": {},
   "outputs": [],
   "source": [
    "#The K-Clustering in Pandas methodology is applied to start identifying clusters.\n",
    "#This graph is between number of Train Stations and carbon Emissions: \n",
    "\n",
    "\n",
    "from sklearn.cluster import KMeans\n",
    "\n",
    "km_res = KMeans(n_clusters =2).fit(Grouped_EU_dataset[[\"counter_Train_Stations\",\"CO₂ emissions per capita (tonnes per capita)\"]])\n",
    "\n",
    "clusters = km_res.cluster_centers_\n",
    "\n",
    "\n",
    "plt.scatter(Grouped_EU_dataset[\"counter_Train_Stations\"],Grouped_EU_dataset[\"CO₂ emissions per capita (tonnes per capita)\"], marker = 'o', color ='blue', label = 'Number of Train Stations')\n",
    "\n",
    "plt.scatter(clusters[:,0], clusters[:,1], s= 2000, alpha = 0.50)\n",
    "\n",
    "plt.xlabel('Number of Train Stations')\n",
    "plt.ylabel('CO₂ emissions per capita (tonnes per capita)')\n",
    "plt.title('Co-relation of number of Train Stations\\n with CO₂ emissions ')\n",
    "plt.legend(loc = 'lower right')\n",
    "plt.style.use('fivethirtyeight')\n",
    "\n",
    "print(clusters)"
   ]
  },
  {
   "cell_type": "markdown",
   "metadata": {},
   "source": [
    "### Further Insights:\n",
    "\n",
    "K-clustering depicted that there were two main clusters identified in both: \n",
    "\n",
    "Co-relation of number of Airports with CO₂ emissions: \n",
    "        High Carbon - High Airports & Low Carbon - Low Airports.\n",
    " \n",
    "Co-relation of number of Train Stations with CO₂ emissions:\n",
    "         High Carbon - Low Train Stations & Low Carbon - Low Train Stations\n",
    "        \n",
    "Thus suggesting a positive coorelation between the Airports and carbon emissions and a slightly positive correlation between Trains stations and carbon emissions. \n",
    "\n",
    "\n",
    "\n"
   ]
  },
  {
   "cell_type": "code",
   "execution_count": null,
   "metadata": {},
   "outputs": [],
   "source": [
    "#Dataframe created of countries with high carbon emissions - higher than the mean carbon emissions. \n",
    "\n",
    "high_carbon_countries = Grouped_EU_dataset[Grouped_EU_dataset[\"CO₂ emissions per capita (tonnes per capita)\"]>mean_Carbon]\n",
    "high_carbon_countries.index = high_carbon_countries.index.astype(str)\n",
    "print(high_carbon_countries.index)\n"
   ]
  },
  {
   "cell_type": "code",
   "execution_count": null,
   "metadata": {},
   "outputs": [],
   "source": [
    "#Bubble chart created with high carbon countries labeled. Size of bubble indicates carbon emissions.\n",
    "\n",
    "import plotly.express as px\n",
    "import math as math\n",
    "\n",
    "fig = px.scatter(x = Grouped_EU_dataset[\"counter_Train_Stations\"],\n",
    "                 y = Grouped_EU_dataset[\"counter_Airports\"],\n",
    "                 size= Grouped_EU_dataset[\"CO₂ emissions per capita (tonnes per capita)\"],\n",
    "                 log_x = True,\n",
    "                 log_y = True,\n",
    "                 size_max = 60)\n",
    "\n",
    "            \n",
    "for line in range (0,high_carbon_countries.shape[0]):\n",
    "    fig.add_annotation(x = math.log(high_carbon_countries[\"counter_Train_Stations\"][line],10),\n",
    "                       y = math.log(high_carbon_countries[\"counter_Airports\"][line],10),\n",
    "                       text = high_carbon_countries.index[line])\n",
    "\n",
    "\n",
    "fig.update_traces(textposition = 'top center')\n",
    "\n",
    "fig.update_layout(\n",
    "    height = 800,\n",
    "    title_text = ('Co-relation between the number of Train Stations, Airports and CO₂ emissions. <br> Size of bubble = CO₂ emissions'),\n",
    "    xaxis = dict(\n",
    "        title='Number of Train Stations(log)',\n",
    "        gridcolor='white',\n",
    "        type='log',\n",
    "        gridwidth=2,\n",
    "    ),\n",
    "    yaxis=dict(\n",
    "        title='Number of Airports (log)',\n",
    "        gridcolor='white',\n",
    "        type = 'log',\n",
    "        gridwidth=2,\n",
    "    ),\n",
    "    )\n",
    "\n",
    "\n",
    "fig.show()\n"
   ]
  },
  {
   "cell_type": "markdown",
   "metadata": {},
   "source": [
    "From the above bubble chart it is visible that the countires with bigger bubbles and markers (high carbon emistting countries) are at the top of the graph. This displays that the more the number of airports and trains stations the more the carbon emissions. \n",
    "\n",
    "Since it has been established thet there is a positive correlation between a higher number of aiports and trains stations leading to higher carbon emissions, the next stage is to check the Correlation Coefficients to establish the strength of thier respective correlations. "
   ]
  },
  {
   "cell_type": "code",
   "execution_count": null,
   "metadata": {},
   "outputs": [],
   "source": [
    "#Correlation Coefficient Data Frame:\n",
    "Grouped_EU_dataset.corr()"
   ]
  },
  {
   "cell_type": "code",
   "execution_count": null,
   "metadata": {
    "scrolled": true
   },
   "outputs": [],
   "source": [
    "#Isolating the Correlation Coefficient of the two relevant comaprisons:\n",
    "\n",
    "Correlation_Airports_Carbon = Grouped_EU_dataset[\"counter_Airports\"].corr(Grouped_EU_dataset[\"CO₂ emissions per capita (tonnes per capita)\"])\n",
    "Correlation_TrainStaions_Carbon = Grouped_EU_dataset[\"counter_Train_Stations\"].corr(Grouped_EU_dataset[\"CO₂ emissions per capita (tonnes per capita)\"])\n",
    "\n",
    "print('The correlation coefficient between the number of Airports and the Carbon Emissions is: ' + Correlation_Airports_Carbon.astype(str))\n",
    "\n",
    "print('The correlation coefficient between the number of Train Stations and the Carbon Emissions is: ' + Correlation_TrainStaions_Carbon.astype(str))\n"
   ]
  },
  {
   "cell_type": "markdown",
   "metadata": {},
   "source": [
    "### Discussion and Critical Analysis:\n",
    "\n",
    "Despite the data being normalised and outliers removed before the analysis it should be noted that the analsyis is subject to factors such as reliance on the data sources for the accuracy of the data. \n",
    "\n",
    "The conclusions driven from this analysis are also limited to the varibales being tested. Their can be other factors such as the mode of energy production used by a country. Countries using cleaner energy production methods such as solar power might have lower carbon emissions depite high Carbon levels. \n",
    "\n",
    "The small sample of only 32 European countires tested after outliers were removed can also affect the analysis. Alot of the outliers were coutries with higher airpots. Ana analysis as a global scale might draw stronger conclusions. "
   ]
  },
  {
   "cell_type": "markdown",
   "metadata": {},
   "source": [
    "### Conclusion:\n",
    "\n",
    "The key conculsion that can be driven from the bubble chart as well as the datframe showing Correlation Coefficient is that there is a positive coorealtion between both, the number of Airports and the Carbon Emissions of a country and the number of Train stations and Carbon Emissions. \n",
    "\n",
    "However, there is a stronger positive correlation between the number of airports a country has the CO₂ emissions per capita (tonnes per capita) they emit. In comparison to the number of train stations a country has and the CO₂ emissions per capita (tonnes per capita) they emit.\n"
   ]
  },
  {
   "cell_type": "markdown",
   "metadata": {},
   "source": [
    "### References:\n",
    "\n",
    "Press corner (2020). Available at: https://ec.europa.eu/commission/presscorner/detail/en/ip_20_335 (Accessed: 26 June 2020).\n",
    "\n",
    "Python, R. (2020) NumPy, SciPy, and Pandas: Correlation With Python – Real Python, Realpython.com. Available at: https://realpython.com/numpy-scipy-pandas-correlation-python/ (Accessed: 27 June 2020).\n",
    "\n",
    "Log functions in Python - GeeksforGeeks (2017). Available at: https://www.geeksforgeeks.org/log-functions-python/#:~:text=Syntax%20%3A%20math.,no.%20is%20passed%20as%20argument. (Accessed: 27 June 2020).\n",
    "\n",
    "Text and Annotations (2020). Available at: https://plotly.com/python/text-and-annotations/ (Accessed: 24 June 2020).\n",
    "\n",
    "Bubble Charts (2020). Available at: https://plotly.com/python/bubble-charts/#categorical-bubble-charts (Accessed: 23 June 2020).\n",
    "\n",
    "\n",
    "Box Plots (2020). Available at: https://plotly.com/python/box-plots/ (Accessed: 22 June 2020).\n",
    "\n",
    "Add Labels and Text to Matplotlib Plots: Annotation Examples (2018). Available at: https://queirozf.com/entries/add-labels-and-text-to-matplotlib-plots-annotation-examples (Accessed: 22 June 2020).\n",
    "\n",
    "Text Preprocessing in Python: Steps, Tools, and Examples (2018). Available at: https://medium.com/@datamonsters/text-preprocessing-in-python-steps-tools-and-examples-bf025f872908 (Accessed: 22 June 2020).\n",
    "\n",
    "4.1c: Labelling all the Points on a Graph - Week 4: Introducing Pandas and Using K-Means to Analyse Data | Coursera (2020). Available at: https://www.coursera.org/learn/data-science-k-means-clustering-python/lecture/OTqcd/4-1c-labelling-all-the-points-on-a-graph (Accessed: 21 June 2020).\n",
    "\n",
    "Multiple grouped summaries | Python (2020). Available at: https://campus.datacamp.com/courses/data-manipulation-with-pandas/aggregating-data-337084f2-b5ff-419b-b2ed-f8000923ed17?ex=12 (Accessed: 20 June 2020).\n",
    "\n",
    "Ways to Detect and Remove the Outliers (2018). Available at: https://towardsdatascience.com/ways-to-detect-and-remove-the-outliers-404d16608dba (Accessed: 28 June 2020).\n",
    "\n",
    "\n"
   ]
  },
  {
   "cell_type": "code",
   "execution_count": null,
   "metadata": {},
   "outputs": [],
   "source": []
  }
 ],
 "metadata": {
  "kernelspec": {
   "display_name": "Python 3",
   "language": "python",
   "name": "python3"
  },
  "language_info": {
   "codemirror_mode": {
    "name": "ipython",
    "version": 3
   },
   "file_extension": ".py",
   "mimetype": "text/x-python",
   "name": "python",
   "nbconvert_exporter": "python",
   "pygments_lexer": "ipython3",
   "version": "3.7.6"
  }
 },
 "nbformat": 4,
 "nbformat_minor": 4
}
